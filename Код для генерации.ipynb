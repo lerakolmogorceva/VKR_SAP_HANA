{
 "cells": [
  {
   "cell_type": "code",
   "execution_count": 46,
   "id": "4a2382cc",
   "metadata": {},
   "outputs": [],
   "source": [
    "import json\n",
    "cities = open('russian-cities.json', 'r', encoding=\"utf-8\")\n",
    "v = json.loads(cities.read())\n",
    "address = []\n",
    "for i in v:\n",
    "    address.append(i['name'] + '|' + i['subject'])"
   ]
  },
  {
   "cell_type": "code",
   "execution_count": 1,
   "id": "b57d95b6",
   "metadata": {},
   "outputs": [],
   "source": [
    "import string\n",
    "import numpy as np\n",
    "import pandas as pd\n",
    "def generate_random_string_numbers(length):\n",
    "    letters = string.digits\n",
    "    rand_string = ''.join(random.choice(letters) for i in range(length))\n",
    "    return rand_string\n",
    "def generate_mobile_phone():\n",
    "    return '79' + generate_random_string_numbers(9)\n",
    "def generate_other_phone():\n",
    "    return '749' + generate_random_string_numbers(8)\n",
    "emails = ['mail.ru', 'yandex.ru', 'gmail.com', 'outlook.com', 'yahoo.com']\n",
    "def generate_email():\n",
    "    return generate_random_string(10) + '@' + np.random.choice(emails) \n",
    "def generate_random_string(length):\n",
    "    letters = string.digits + string.ascii_uppercase + string.ascii_lowercase\n",
    "    rand_string = ''.join(random.choice(letters) for i in range(length))\n",
    "    return rand_string\n",
    "from datetime import timedelta, datetime\n",
    "from random import randrange\n",
    "\n",
    "def random_date(start, end):\n",
    "    delta = end - start\n",
    "    int_delta = (delta.days * 24 * 60 * 60) + delta.seconds\n",
    "    random_second = randrange(int_delta)\n",
    "    return start + timedelta(seconds=random_second)\n",
    "\n",
    "d1 = datetime.strptime('1/1/2010 12:00 AM', '%m/%d/%Y %I:%M %p')\n",
    "d2 = datetime.now()"
   ]
  },
  {
   "cell_type": "code",
   "execution_count": 51,
   "id": "67977f8d",
   "metadata": {},
   "outputs": [],
   "source": [
    "cities.close()"
   ]
  },
  {
   "cell_type": "code",
   "execution_count": 47,
   "id": "19767316",
   "metadata": {},
   "outputs": [],
   "source": [
    "street_file = open('main.txt', 'r', encoding=\"utf-8\")\n",
    "streets = []\n",
    "for line in street_file:\n",
    "    streets.append(line)"
   ]
  },
  {
   "cell_type": "code",
   "execution_count": null,
   "id": "7d2dfdb9",
   "metadata": {},
   "outputs": [],
   "source": [
    "data_contact = np.empty(shape=(350000), dtype=[('client_sk', int), \n",
    "                                        ('valid_from_dttm', datetime), \n",
    "                                        ('valid_to_dttm', datetime), \n",
    "                                        ('country', 'U50'), \n",
    "                                        ('region', 'U50')\n",
    "                                        ('settlement', 'U100'), \n",
    "                                        ('street', 'U100'), \n",
    "                                        ('building', int), \n",
    "                                        ('appartment', 'U50'), \n",
    "                                        ('postal_index', 'U6'),\n",
    "                                        ('etl_processed_dttm', datetime)])"
   ]
  },
  {
   "cell_type": "code",
   "execution_count": null,
   "id": "15920496",
   "metadata": {},
   "outputs": [],
   "source": [
    "for i in range(350000):\n",
    "    data[i][0] = random.randint(1, 200000)\n",
    "    data[i][1] = random_date(d1, d2)\n",
    "    data[i][3] = generate_mobile_phone()\n",
    "    data[i][4] = generate_other_phone()\n",
    "    data[i][5] = generate_other_phone()\n",
    "    data[i][6] = generate_mobile_phone()\n",
    "    data[i][7] = generate_email()\n",
    "    data[i][8] = random_date(d1, d2)"
   ]
  },
  {
   "cell_type": "code",
   "execution_count": 2,
   "id": "a518953e",
   "metadata": {},
   "outputs": [],
   "source": [
    "import numpy as np\n",
    "from datetime import timedelta, datetime\n",
    "import random\n",
    "from random import randrange\n",
    "\n",
    "def random_date(start, end):\n",
    "    delta = end - start\n",
    "    int_delta = (delta.days * 24 * 60 * 60) + delta.seconds\n",
    "    random_second = randrange(int_delta)\n",
    "    return start + timedelta(seconds=random_second)\n",
    "\n",
    "d1 = datetime.strptime('1/1/2010 12:00 AM', '%m/%d/%Y %I:%M %p')\n",
    "d2 = datetime.now()\n",
    "\n",
    "data_rating = np.empty(shape=(450000), dtype=[('client_sk', int), \n",
    "                                        ('valid_from_dttm', datetime), \n",
    "                                        ('valid_to_dttm', datetime), \n",
    "                                        ('rating', int), \n",
    "                                        ('etl_processed_dttm', datetime)])"
   ]
  },
  {
   "cell_type": "code",
   "execution_count": 66,
   "id": "190b4059",
   "metadata": {},
   "outputs": [],
   "source": [
    "for i in range(450000):\n",
    "    data_rating[i][0] = random.randint(1, 200000)\n",
    "    data_rating[i][1] = random_date(d1, d2)\n",
    "    data_rating[i][3] = random.randint(1, 1000)\n",
    "    data_rating[i][4] = random_date(d1, d2)"
   ]
  },
  {
   "cell_type": "code",
   "execution_count": 3,
   "id": "8679d6aa",
   "metadata": {},
   "outputs": [],
   "source": [
    "import pandas as pd\n",
    "pd.DataFrame(data_rating).to_csv(\"s_client_rating.csv\")"
   ]
  },
  {
   "cell_type": "code",
   "execution_count": 4,
   "id": "261ddd52",
   "metadata": {},
   "outputs": [],
   "source": [
    "import string\n",
    "def generate_random_string(length):\n",
    "    letters = string.digits + string.ascii_uppercase + string.ascii_lowercase\n",
    "    rand_string = ''.join(random.choice(letters) for i in range(length))\n",
    "    return rand_string"
   ]
  },
  {
   "cell_type": "code",
   "execution_count": 73,
   "id": "5fb5348e",
   "metadata": {},
   "outputs": [],
   "source": [
    "loan_types = ['Рефинансирование', 'Автокредит', 'Кредит наличными', 'Кредитная карта']\n",
    "data_loans_h = np.empty(shape=(300000), dtype=[('created_dttm', datetime), \n",
    "                                        ('loan_type', 'U20'), \n",
    "                                        ('loan_id', 'U10'), \n",
    "                                        ('etl_processed_dttm', datetime)])\n",
    "for i in range(300000):\n",
    "    data_loans_h[i][0] = random_date(d1, d2)\n",
    "    data_loans_h[i][1] = np.random.choice(loan_types, p=[0.05, 0.1, 0.35, 0.5])\n",
    "    data_loans_h[i][2] = generate_random_string(10)\n",
    "    data_loans_h[i][3] = random_date(d1, d2)"
   ]
  },
  {
   "cell_type": "code",
   "execution_count": null,
   "id": "5634f3a8",
   "metadata": {},
   "outputs": [],
   "source": [
    "pd.DataFrame(data_loans_h).to_csv(\"h_loan.csv\")"
   ]
  },
  {
   "cell_type": "code",
   "execution_count": 76,
   "id": "a71676aa",
   "metadata": {},
   "outputs": [],
   "source": [
    "refinancing_loans = []\n",
    "auto_loans = []\n",
    "knz_loans = []\n",
    "credit_cards = []\n",
    "for i in range(300000):\n",
    "    if data_loans_h[i][1] == 'Рефинансирование':\n",
    "        refinancing_loans.append(i + 1)\n",
    "    elif data_loans_h[i][1] == 'Автокредит':\n",
    "        auto_loans.append(i + 1)\n",
    "    elif data_loans_h[i][1] == 'Кредит наличными':\n",
    "        knz_loans.append(i + 1)\n",
    "    else:\n",
    "        credit_cards.append(i + 1)"
   ]
  },
  {
   "cell_type": "code",
   "execution_count": 83,
   "id": "cbae9e1c",
   "metadata": {},
   "outputs": [],
   "source": [
    "data_knz_loans = np.empty(shape=(105097), dtype=[('loan_sk', int), \n",
    "                                        ('created_dttm', datetime), \n",
    "                                        ('open_dt', datetime), \n",
    "                                        ('monthly_payment', float),\n",
    "                                        ('credit_sum', int), \n",
    "                                        ('duration', int),\n",
    "                                        ('is_closed', bool),\n",
    "                                        ('close_dttm', datetime),\n",
    "                                        ('interest_rate', float),\n",
    "                                        ('credit_vacation', bool),\n",
    "                                        ('etl_processed_dttm', datetime)])"
   ]
  },
  {
   "cell_type": "code",
   "execution_count": 96,
   "id": "4c73043c",
   "metadata": {},
   "outputs": [],
   "source": [
    "created_1 = datetime.strptime('1/1/2022 12:00 AM', '%m/%d/%Y %I:%M %p')\n",
    "proc_1 = datetime.strptime('1/1/2022 12:00 AM', '%m/%d/%Y %I:%M %p')\n",
    "closed_date = datetime.strptime('1/1/2019 12:00 AM', '%m/%d/%Y %I:%M %p')\n",
    "for i in range(105097):\n",
    "    data_knz_loans[i][0] = knz_loans[i]\n",
    "    data_knz_loans[i][1] = random_date(created_1, d2)\n",
    "    data_knz_loans[i][2] = random_date(d1, created_1)\n",
    "    data_knz_loans[i][4] = int(np.random.normal(500000, 200000))\n",
    "    data_knz_loans[i][5] = np.random.randint(1, 36)\n",
    "    data_knz_loans[i][8] = np.random.uniform(14.9, 30)\n",
    "    data_knz_loans[i][3] = data_knz_loans[i][4] * (1.0 + (data_knz_loans[i][8]/100))/data_knz_loans[i][5]\n",
    "    if data_knz_loans[i][2] >= closed_date:\n",
    "        data_knz_loans[i][6] = False\n",
    "    else:\n",
    "        data_knz_loans[i][6] = True\n",
    "    if data_knz_loans[i][6] == True:\n",
    "        data_knz_loans[i][7] = random_date(data_knz_loans[i][2], d2)\n",
    "    if data_knz_loans[i][6] == True:\n",
    "        data_knz_loans[i][9] = False\n",
    "    else:\n",
    "        data_knz_loans[i][9] = np.random.choice([True, False], p = [0.1, 0.9])\n",
    "    data_knz_loans[i][10] = random_date(proc_1, d2)"
   ]
  },
  {
   "cell_type": "code",
   "execution_count": 98,
   "id": "80990cfe",
   "metadata": {},
   "outputs": [],
   "source": [
    "pd.DataFrame(data_knz_loans).to_csv(\"s_loan_cash.csv\")"
   ]
  },
  {
   "cell_type": "code",
   "execution_count": 99,
   "id": "4ed97633",
   "metadata": {},
   "outputs": [],
   "source": [
    "pd.DataFrame(data_loans_h).to_csv(\"h_loan.csv\")"
   ]
  },
  {
   "cell_type": "code",
   "execution_count": 101,
   "id": "f8658f54",
   "metadata": {},
   "outputs": [],
   "source": [
    "data_ref_loans = np.empty(shape=(15231), dtype=[('loan_sk', int), \n",
    "                                        ('created_dttm', datetime), \n",
    "                                        ('open_dt', datetime), \n",
    "                                        ('monthly_payment', float),\n",
    "                                        ('credit_sum', int), \n",
    "                                        ('duration', int),\n",
    "                                        ('is_closed', bool),\n",
    "                                        ('close_dttm', datetime),\n",
    "                                        ('interest_rate', float),\n",
    "                                        ('refinancing_bank', 'U30'),\n",
    "                                        ('refinancing_loan_sk', int),\n",
    "                                        ('etl_processed_dttm', datetime)])"
   ]
  },
  {
   "cell_type": "code",
   "execution_count": 105,
   "id": "45fde03b",
   "metadata": {},
   "outputs": [],
   "source": [
    "banks = ['Сбербанк', 'Тинькофф', 'Газпромбанк', 'Альфа-банк', 'Почта-банк', 'ВТБ', 'Открытие', 'Райффайзенбанк']\n",
    "for i in range(15231):\n",
    "    data_ref_loans[i][0] = refinancing_loans[i]\n",
    "    data_ref_loans[i][1] = random_date(created_1, d2)\n",
    "    data_ref_loans[i][2] = random_date(d1, created_1)\n",
    "    data_ref_loans[i][4] = int(np.random.normal(500000, 200000))\n",
    "    data_ref_loans[i][5] = np.random.randint(1, 36)\n",
    "    data_ref_loans[i][8] = np.random.uniform(14.9, 30)\n",
    "    data_ref_loans[i][3] = data_ref_loans[i][4] * (1.0 + (data_ref_loans[i][8]/100))/data_ref_loans[i][5]\n",
    "    if data_ref_loans[i][2] >= closed_date:\n",
    "        data_ref_loans[i][6] = False\n",
    "    else:\n",
    "        data_ref_loans[i][6] = True\n",
    "    if data_ref_loans[i][6] == True:\n",
    "        data_ref_loans[i][7] = random_date(data_ref_loans[i][2], d2)\n",
    "    data_ref_loans[i][9] = np.random.choice(banks)\n",
    "    if data_ref_loans[i][9] == 'Наш банк':\n",
    "        data_ref_loans[i][10] = np.random.choice(knz_loans)\n",
    "    data_ref_loans[i][11] = random_date(proc_1, d2)"
   ]
  },
  {
   "cell_type": "code",
   "execution_count": 106,
   "id": "01c5c59c",
   "metadata": {},
   "outputs": [],
   "source": [
    "pd.DataFrame(data_ref_loans).to_csv(\"s_loan_refinancing.csv\")"
   ]
  },
  {
   "cell_type": "code",
   "execution_count": 108,
   "id": "d091ed92",
   "metadata": {},
   "outputs": [
    {
     "name": "stdout",
     "output_type": "stream",
     "text": [
      "149797\n"
     ]
    }
   ],
   "source": [
    "print(len(credit_cards))"
   ]
  },
  {
   "cell_type": "code",
   "execution_count": 110,
   "id": "d70fa214",
   "metadata": {},
   "outputs": [],
   "source": [
    "data_ref_cards = np.empty(shape=(149797), dtype=[('loan_sk', int), \n",
    "                                        ('created_dttm', datetime), \n",
    "                                        ('open_dt', datetime), \n",
    "                                        ('card_number', 'U16'),\n",
    "                                        ('card_limit', int), \n",
    "                                        ('purpose', 'U50'),\n",
    "                                        ('is_closed', bool),\n",
    "                                        ('close_dttm', datetime),\n",
    "                                        ('interest_rate', float),\n",
    "                                        ('duration', int),\n",
    "                                        ('etl_processed_dttm', datetime)])"
   ]
  },
  {
   "cell_type": "code",
   "execution_count": 112,
   "id": "5f4a7550",
   "metadata": {},
   "outputs": [],
   "source": [
    "import string\n",
    "def generate_random_string_numbers(length):\n",
    "    letters = string.digits\n",
    "    rand_string = ''.join(random.choice(letters) for i in range(length))\n",
    "    return rand_string"
   ]
  },
  {
   "cell_type": "code",
   "execution_count": 120,
   "id": "c7a19f03",
   "metadata": {},
   "outputs": [],
   "source": [
    "def random_upper_string(length):\n",
    "    letters = string.digits + string.ascii_uppercase\n",
    "    rand_string = ''.join(random.choice(letters) for i in range(length))\n",
    "    return rand_string"
   ]
  },
  {
   "cell_type": "code",
   "execution_count": 115,
   "id": "e3348927",
   "metadata": {},
   "outputs": [],
   "source": [
    "purposes = ['Покупки', 'Лечение', 'Учеба', 'Поездки', 'Инвестиции', 'Открытие бизнеса']\n",
    "for i in range(149797):\n",
    "    data_ref_cards[i][0] = credit_cards[i]\n",
    "    data_ref_cards[i][1] = random_date(created_1, d2)\n",
    "    data_ref_cards[i][2] = random_date(d1, created_1)\n",
    "    data_ref_cards[i][3] = generate_random_string_numbers(16)\n",
    "    data_ref_cards[i][4] = int(np.random.normal(700000, 300000))\n",
    "    data_ref_cards[i][8] = np.random.uniform(12, 35)\n",
    "    data_ref_cards[i][5] = np.random.choice(purposes, p=[0.7, 0.1, 0.05, 0.1, 0.02, 0.03])\n",
    "    data_ref_cards[i][9] = np.random.randint(1, 36)\n",
    "    if data_ref_cards[i][2] >= closed_date:\n",
    "        data_ref_cards[i][6] = False\n",
    "    else:\n",
    "        data_ref_cards[i][6] = True\n",
    "    if data_ref_cards[i][6] == True:\n",
    "        data_ref_cards[i][7] = random_date(data_ref_cards[i][2], d2)\n",
    "    data_ref_cards[i][10] = random_date(proc_1, d2)"
   ]
  },
  {
   "cell_type": "code",
   "execution_count": 116,
   "id": "39b4c38a",
   "metadata": {},
   "outputs": [],
   "source": [
    "pd.DataFrame(data_ref_cards).to_csv(\"s_loan_credit_card.csv\")"
   ]
  },
  {
   "cell_type": "code",
   "execution_count": 119,
   "id": "4992feaa",
   "metadata": {},
   "outputs": [],
   "source": [
    "data_ref_auto = np.empty(shape=(29875), dtype=[('loan_sk', int), \n",
    "                                        ('created_dttm', datetime), \n",
    "                                        ('open_dt', datetime), \n",
    "                                        ('own_funds_sum', int),\n",
    "                                        ('auto_price', int), \n",
    "                                        ('is_closed', bool),\n",
    "                                        ('close_dttm', datetime),\n",
    "                                        ('interest_rate', float),\n",
    "                                        ('duration', int),\n",
    "                                        ('auto_type', 'U20'),\n",
    "                                        ('auto_model', 'U50'),\n",
    "                                        ('monthly_payment', float),\n",
    "                                        ('vin', 'U17'),\n",
    "                                        ('etl_processed_dttm', datetime)])"
   ]
  },
  {
   "cell_type": "code",
   "execution_count": 129,
   "id": "76c3519f",
   "metadata": {},
   "outputs": [],
   "source": [
    "types = ['Купэ', 'Лимузин', 'Универсал', 'Внедорожник', 'Кабриолет', 'Седан', 'Хетчбэк', 'Пикап'] \n",
    "models = ['Kia Rio', 'Hyundai Solaris', 'Lada Kalina', 'Toyota Corola', 'Toyota RAV4', 'Lada Granta', \n",
    "         'Lada Vesta', 'Hyundai Creta', 'VW Polo', 'Lada Largus', 'VW Tiguan', 'Renault Logan',\n",
    "          'Renault Duster', 'Toyota Camry', 'Renault Sandero', 'Kia Sportage', 'Nissan Qashqai', \n",
    "          'Skoda Octavia', 'Nissan X-Trail', 'Mazda CX-5', 'Skoda Rapid', 'Renault Kaptur', \n",
    "          'Autovaz Niva', 'Kia Optima']\n",
    "for i in range(29875):\n",
    "    data_ref_auto[i][0] = auto_loans[i]\n",
    "    data_ref_auto[i][1] = random_date(created_1, d2)\n",
    "    data_ref_auto[i][2] = random_date(d1, created_1)\n",
    "    data_ref_auto[i][4] = abs(int(np.random.normal(1000000, 500000)))\n",
    "    if data_ref_auto[i][2] >= closed_date:\n",
    "        data_ref_auto[i][5] = False\n",
    "    else:\n",
    "        data_ref_auto[i][5] = True\n",
    "    if data_ref_auto[i][5] == True:\n",
    "        data_ref_auto[i][6] = random_date(data_ref_auto[i][2], d2)\n",
    "    data_ref_auto[i][7] = np.random.uniform(14.9, 32)\n",
    "    data_ref_auto[i][8] = np.random.randint(1, 48)\n",
    "    data_ref_auto[i][9] = np.random.choice(types)\n",
    "    data_ref_auto[i][10] = np.random.choice(models)\n",
    "    data_ref_auto[i][3] = np.random.randint(int(data_ref_auto[i][4]*0.05), int(data_ref_auto[i][4]*0.4))\n",
    "    data_ref_auto[i][11] = (data_ref_auto[i][4] - data_ref_auto[i][3]) * (1.0 + data_ref_auto[i][7] / 100) / data_ref_auto[i][8]\n",
    "    data_ref_auto[i][12] = random_upper_string(17)\n",
    "    data_ref_auto[i][13] = random_date(proc_1, d2)"
   ]
  },
  {
   "cell_type": "code",
   "execution_count": 130,
   "id": "0e8a0850",
   "metadata": {},
   "outputs": [],
   "source": [
    "pd.DataFrame(data_ref_auto).to_csv(\"s_loan_auto.csv\")"
   ]
  },
  {
   "cell_type": "code",
   "execution_count": 8,
   "id": "24f96a1c",
   "metadata": {},
   "outputs": [],
   "source": [
    "data_pledge = np.empty(shape=(89023), dtype=[('loan_sk', int), \n",
    "                                        ('created_dttm', datetime), \n",
    "                                        ('pledge_type', 'U20'),\n",
    "                                        ('price', int),\n",
    "                                        ('is_actual', bool),\n",
    "                                        ('is_only_owner', bool),\n",
    "                                        ('etl_processed_dttm', datetime)])"
   ]
  },
  {
   "cell_type": "code",
   "execution_count": 9,
   "id": "6f4a25cb",
   "metadata": {},
   "outputs": [],
   "source": [
    "created_1 = datetime.strptime('1/1/2022 12:00 AM', '%m/%d/%Y %I:%M %p')\n",
    "proc_1 = datetime.strptime('1/1/2022 12:00 AM', '%m/%d/%Y %I:%M %p')\n",
    "closed_date = datetime.strptime('1/1/2019 12:00 AM', '%m/%d/%Y %I:%M %p')"
   ]
  },
  {
   "cell_type": "code",
   "execution_count": 10,
   "id": "e77cdf3a",
   "metadata": {},
   "outputs": [],
   "source": [
    "pledge_types = ['Автомобиль', 'Ценная бумага', 'Коммерческая недвижимость', 'Акции', 'Залог вещей', \n",
    "               'Антиквариат', 'Производственное оборудование', 'Недвижимость', 'Облигации', 'Ювелирные изделия']\n",
    "for i in range(89023):\n",
    "    data_pledge[i][0] = (i * 3) + 1\n",
    "    data_pledge[i][1] = random_date(d1, d2)\n",
    "    data_pledge[i][2] = np.random.choice(pledge_types)\n",
    "    if data_pledge[i][2] in ['Коммерческая недвижимость', 'Недвижимость']:\n",
    "        data_pledge[i][3] = np.random.randint(2000000, 15000000)\n",
    "    else:\n",
    "        data_pledge[i][3] = np.random.randint(100000, 3000000)\n",
    "    data_pledge[i][4] = np.random.choice([True, False], p = [0.7, 0.3])\n",
    "    data_pledge[i][5] = np.random.choice([True, False], p = [0.8, 0.2])\n",
    "    data_pledge[i][6] = random_date(proc_1, d2)"
   ]
  },
  {
   "cell_type": "code",
   "execution_count": 11,
   "id": "fc5a3734",
   "metadata": {},
   "outputs": [],
   "source": [
    "pd.DataFrame(data_pledge).to_csv(\"s_loan_pledge.csv\")"
   ]
  },
  {
   "cell_type": "code",
   "execution_count": 12,
   "id": "3351c56d",
   "metadata": {},
   "outputs": [],
   "source": [
    "systems = ['CRM', 'ERP', 'ORA', 'APP', 'WLT']\n",
    "data_app_h = np.empty(shape=(450000), dtype=[('created_dttm', datetime), \n",
    "                                        ('source_system_cd', 'U3'), \n",
    "                                        ('application_id', 'U10'), \n",
    "                                        ('etl_processed_dttm', datetime)])\n",
    "for i in range(450000):\n",
    "    data_app_h[i][0] = random_date(d1, d2)\n",
    "    data_app_h[i][1] = np.random.choice(systems, p = [0.8, 0.05, 0.05, 0.07, 0.03])\n",
    "    data_app_h[i][2] = generate_random_string(10)\n",
    "    data_app_h[i][3] = random_date(d1, d2)"
   ]
  },
  {
   "cell_type": "code",
   "execution_count": 13,
   "id": "d22af9f4",
   "metadata": {},
   "outputs": [],
   "source": [
    "pd.DataFrame(data_app_h).to_csv(\"h_application.csv\")"
   ]
  },
  {
   "cell_type": "code",
   "execution_count": 3,
   "id": "a0284650",
   "metadata": {},
   "outputs": [],
   "source": [
    "purposes = ['Покупки', 'Лечение', 'Учеба', 'Поездки', 'Инвестиции', 'Открытие бизнеса']\n",
    "loan_types = ['Рефинансирование', 'Автокредит', 'Кредит наличными', 'Кредитная карта']\n",
    "sale_methods = ['Сайт', 'Приложение', 'Интеграция при покупке', 'Реклама Google', 'Реклама Yandex', 'От знакомых']\n",
    "data_app_info = np.empty(shape=(450000), dtype=[('application_sk', int), \n",
    "                                        ('created_dttm', datetime), \n",
    "                                        ('credit_type', 'U20'), \n",
    "                                        ('credit_sum', int), \n",
    "                                        ('phone_verified', bool),\n",
    "                                        ('sale_method', 'U50'),\n",
    "                                        ('purpose', 'U20'),\n",
    "                                        ('is_ready_for_guarantor', bool),\n",
    "                                        ('is_ready_for_docs', bool),\n",
    "                                        ('is_pledge', bool), \n",
    "                                        ('pledge_type', 'U50'),\n",
    "                                        ('etl_processed_dttm', datetime)])\n",
    "for i in range(450000):\n",
    "    data_app_info[i][0] = np.random.randint(1, 450000)\n",
    "    data_app_info[i][1] = random_date(d1, d2)\n",
    "    data_app_info[i][2] = np.random.choice(loan_types, p=[0.05, 0.1, 0.35, 0.5])\n",
    "    data_app_info[i][3] = int(np.random.normal(500000, 200000))\n",
    "    data_app_info[i][4] = np.random.choice([True, False], p = [0.7, 0.3])\n",
    "    data_app_info[i][5] = np.random.choice(sale_methods)\n",
    "    data_app_info[i][6] = np.random.choice(purposes, p=[0.7, 0.1, 0.05, 0.1, 0.02, 0.03])\n",
    "    data_app_info[i][7] = np.random.choice([True, False], p = [0.65, 0.35])\n",
    "    data_app_info[i][8] = np.random.choice([True, False], p = [0.8, 0.2])\n",
    "    data_app_info[i][9] = np.random.choice([True, False], p = [0.3, 0.7])\n",
    "    data_app_info[i][10] = random_date(d1, d2)"
   ]
  },
  {
   "cell_type": "code",
   "execution_count": 4,
   "id": "291f0860",
   "metadata": {},
   "outputs": [],
   "source": [
    "import pandas as pd\n",
    "pd.DataFrame(data_app_info).to_csv(\"s_application_info.csv\")"
   ]
  },
  {
   "cell_type": "code",
   "execution_count": 37,
   "id": "3dda579f",
   "metadata": {},
   "outputs": [],
   "source": [
    "data_app_answer = np.empty(shape=(1145001), dtype=[('application_sk', int), \n",
    "                                        ('valid_from_dttm', datetime), \n",
    "                                        ('valid_to_dttm', datetime), \n",
    "                                        ('stage_num', int), \n",
    "                                        ('stage_desc', 'U100'), \n",
    "                                        ('reject_reason', 'U50'),\n",
    "                                        ('etl_processed_dttm', datetime)])\n"
   ]
  },
  {
   "cell_type": "code",
   "execution_count": null,
   "id": "0d3face1",
   "metadata": {},
   "outputs": [],
   "source": [
    "num_stages = np.empty(shape=(450000))\n",
    "for i in range()\n",
    "\n",
    "2 - а) проверка успешно б) проверка отказ\n",
    "3 - уточнение проверка отказ/уточнение проверка успешно \n",
    "4 - проверка уточнение повторная проверка отказ/проверка уточнение повторная успешно \n",
    "5 - уточнение проверка уточнение проверка отказ\n",
    "\n",
    "для 280000 = 2\n",
    "[1, 280000]\n",
    "для 115000 = 3\n",
    "[280001, 395000]\n",
    "для 35000 = 4\n",
    "[395001, 430000]\n",
    "для 20000 = 5\n",
    "[430001, 450000]"
   ]
  },
  {
   "cell_type": "code",
   "execution_count": 39,
   "id": "41821836",
   "metadata": {},
   "outputs": [],
   "source": [
    "stages = ['Уточнение информации', 'Проверка информации', 'Отказ', 'Успешно'] \n",
    "rejects = ['Закредитованность клиента', 'Не удалось согласовать', 'Есть просрочки', 'Нет прописки', 'Неверная информация', \n",
    "          'Слишком большая запрошенная сумма', 'Низкий кредитный рейтинг в БКИ', 'Недействительный паспорт', \n",
    "          'Низкий доход', 'Подозрение на мошенничество', 'Время действия предложения истекло', 'Недавний отказ', \n",
    "          'Недееспособность', 'Есть ипотека с просрочкой', 'Отказ со стороны клиента', 'Иностранный гражданин', \n",
    "          'Банкротство клиента']\n",
    "v1 = datetime.strptime('1/1/2016 12:00 AM', '%m/%d/%Y %I:%M %p')\n",
    "v2 = datetime.strptime('1/1/2018 12:00 AM', '%m/%d/%Y %I:%M %p')\n",
    "v3 = datetime.strptime('1/1/2019 12:00 AM', '%m/%d/%Y %I:%M %p')\n",
    "for i in range(1, 280001):\n",
    "    data_app_answer[2*i-2][0] = i\n",
    "    data_app_answer[2*i-1][0] = i\n",
    "    data_app_answer[2*i-2][1] = random_date(d1, d2)\n",
    "    h = np.random.randint(10, 200)\n",
    "    data_app_answer[2*i-1][1] = data_app_answer[2*i-2][1] + timedelta(hours=h)\n",
    "    data_app_answer[2*i-2][3] = 1\n",
    "    data_app_answer[2*i-1][3] = 2\n",
    "    data_app_answer[2*i-2][4] = 'Проверка информации'\n",
    "    data_app_answer[2*i-1][4] = np.random.choice(['Отказ', 'Одобрение'], p = [0.33, 0.67])\n",
    "    if data_app_answer[2*i-1][4] == 'Отказ':\n",
    "        data_app_answer[2*i-1][5] = np.random.choice(rejects)\n",
    "    data_app_answer[2*i-1][6] =data_app_answer[2*i-1][1] + timedelta(hours=2)\n",
    "    data_app_answer[2*i-2][6] =data_app_answer[2*i-2][1] + timedelta(hours=2)"
   ]
  },
  {
   "cell_type": "code",
   "execution_count": 40,
   "id": "fba09bfb",
   "metadata": {},
   "outputs": [],
   "source": [
    "for i in range(280001, 395001):\n",
    "    data_app_answer[3*(i-280000)+559998][0] = i\n",
    "    data_app_answer[3*(i-280000)+559999][0] = i\n",
    "    data_app_answer[3*(i-280000)+560000][0] = i\n",
    "    data_app_answer[3*(i-280000)+559998][1] = random_date(d1, d2)\n",
    "    h = np.random.randint(10, 200)\n",
    "    data_app_answer[3*(i-280000)+559999][1] = data_app_answer[3*(i-280000)+559998][1] + timedelta(hours=h)\n",
    "    data_app_answer[3*(i-280000)+560000][1] = data_app_answer[3*(i-280000)+559999][1] + timedelta(hours=h)\n",
    "    data_app_answer[3*(i-280000)+559998][3] = 1\n",
    "    data_app_answer[3*(i-280000)+559999][3] = 2\n",
    "    data_app_answer[3*(i-280000)+560000][3] = 3\n",
    "    data_app_answer[3*(i-280000)+559998][4] = 'Уточнение информации'\n",
    "    data_app_answer[3*(i-280000)+559999][4] = 'Проверка информации'\n",
    "    data_app_answer[3*(i-280000)+560000][4] = np.random.choice(['Отказ', 'Одобрение'], p = [0.33, 0.67])\n",
    "    if data_app_answer[3*(i-280000)+560000][4] == 'Отказ':\n",
    "        data_app_answer[3*(i-280000)+560000][5] = np.random.choice(rejects)\n",
    "    data_app_answer[3*(i-280000)+559998][6] =data_app_answer[3*(i-280000)+559998][1] + timedelta(hours=2)\n",
    "    data_app_answer[3*(i-280000)+559999][6] =data_app_answer[3*(i-280000)+559999][1] + timedelta(hours=2)\n",
    "    data_app_answer[3*(i-280000)+560000][6] =data_app_answer[3*(i-280000)+560000][1] + timedelta(hours=2)"
   ]
  },
  {
   "cell_type": "code",
   "execution_count": 41,
   "id": "028b9ec2",
   "metadata": {},
   "outputs": [],
   "source": [
    "for i in range(395001, 430001):\n",
    "    data_app_answer[4*(i-395000)+904997][0] = i\n",
    "    data_app_answer[4*(i-395000)+904998][0] = i\n",
    "    data_app_answer[4*(i-395000)+904999][0] = i\n",
    "    data_app_answer[4*(i-395000)+905000][0] = i\n",
    "    h = np.random.randint(10, 200)\n",
    "    data_app_answer[4*(i-395000)+904997][1] = random_date(d1, d2)\n",
    "    data_app_answer[4*(i-395000)+904998][1] = data_app_answer[4*(i-395000)+904997][1] + timedelta(hours=h)\n",
    "    data_app_answer[4*(i-395000)+904999][1] = data_app_answer[4*(i-395000)+904998][1] + timedelta(hours=h)\n",
    "    data_app_answer[4*(i-395000)+905000][1] = data_app_answer[4*(i-395000)+904999][1] + timedelta(hours=h)\n",
    "    data_app_answer[4*(i-395000)+904997][3] = 1\n",
    "    data_app_answer[4*(i-395000)+904998][3] = 2\n",
    "    data_app_answer[4*(i-395000)+904999][3] = 3\n",
    "    data_app_answer[4*(i-395000)+905000][3] = 4\n",
    "    data_app_answer[4*(i-395000)+904997][4] = 'Проверка информации'\n",
    "    data_app_answer[4*(i-395000)+904998][4] = 'Уточнение информации'\n",
    "    data_app_answer[4*(i-395000)+904999][4] = 'Проверка информации'\n",
    "    data_app_answer[4*(i-395000)+905000][4] = np.random.choice(['Отказ', 'Одобрение'], p = [0.33, 0.67])\n",
    "    if data_app_answer[4*(i-395000)+905000][4] == 'Отказ':\n",
    "        data_app_answer[4*(i-395000)+905000][5] = np.random.choice(rejects)\n",
    "    data_app_answer[4*(i-395000)+904997][6] =data_app_answer[4*(i-395000)+904997][1] + timedelta(hours=2)\n",
    "    data_app_answer[4*(i-395000)+904998][6] =data_app_answer[4*(i-395000)+904998][1] + timedelta(hours=2)\n",
    "    data_app_answer[4*(i-395000)+904999][6] =data_app_answer[4*(i-395000)+904999][1] + timedelta(hours=2)\n",
    "    data_app_answer[4*(i-395000)+905000][6] =data_app_answer[4*(i-395000)+905000][1] + timedelta(hours=2)"
   ]
  },
  {
   "cell_type": "code",
   "execution_count": 42,
   "id": "6a19fbe5",
   "metadata": {},
   "outputs": [],
   "source": [
    "for i in range(430001, 450001):\n",
    "    data_app_answer[5*(i-430000)+1044996][0] = i\n",
    "    data_app_answer[5*(i-430000)+1044997][0] = i\n",
    "    data_app_answer[5*(i-430000)+1044998][0] = i\n",
    "    data_app_answer[5*(i-430000)+1044999][0] = i\n",
    "    data_app_answer[5*(i-430000)+1045000][0] = i\n",
    "    h = np.random.randint(10, 200)\n",
    "    data_app_answer[5*(i-430000)+1044996][1] = random_date(d1, d2)\n",
    "    data_app_answer[5*(i-430000)+1044997][1] = data_app_answer[5*(i-430000)+1044996][1] + timedelta(hours=h)\n",
    "    data_app_answer[5*(i-430000)+1044998][1] = data_app_answer[5*(i-430000)+1044997][1] + timedelta(hours=h)\n",
    "    data_app_answer[5*(i-430000)+1044999][1] = data_app_answer[5*(i-430000)+1044998][1] + timedelta(hours=h)\n",
    "    data_app_answer[5*(i-430000)+1045000][1] = data_app_answer[5*(i-430000)+1044999][1] + timedelta(hours=h)\n",
    "    data_app_answer[5*(i-430000)+1044996][3] = 1\n",
    "    data_app_answer[5*(i-430000)+1044997][3] = 2\n",
    "    data_app_answer[5*(i-430000)+1044998][3] = 3\n",
    "    data_app_answer[5*(i-430000)+1044999][3] = 4\n",
    "    data_app_answer[5*(i-430000)+1045000][3] = 5\n",
    "    data_app_answer[5*(i-430000)+1044996][4] = 'Уточнение информации'\n",
    "    data_app_answer[5*(i-430000)+1044997][4] = 'Проверка информации'\n",
    "    data_app_answer[5*(i-430000)+1044998][4] = 'Уточнение информации'\n",
    "    data_app_answer[5*(i-430000)+1044999][4] = 'Проверка информации'\n",
    "    data_app_answer[5*(i-430000)+1045000][4] = np.random.choice(['Отказ', 'Одобрение'], p = [0.33, 0.67])\n",
    "    if data_app_answer[5*(i-430000)+1045000][4] == 'Отказ':\n",
    "        data_app_answer[5*(i-430000)+1045000][5] = np.random.choice(rejects)\n",
    "    data_app_answer[5*(i-430000)+1044996][6] = data_app_answer[5*(i-430000)+1044996][1] + timedelta(hours=2)\n",
    "    data_app_answer[5*(i-430000)+1044997][6] = data_app_answer[5*(i-430000)+1044997][1] + timedelta(hours=2)\n",
    "    data_app_answer[5*(i-430000)+1044998][6] = data_app_answer[5*(i-430000)+1044998][1] + timedelta(hours=2)\n",
    "    data_app_answer[5*(i-430000)+1044999][6] = data_app_answer[5*(i-430000)+1044999][1] + timedelta(hours=2)\n",
    "    data_app_answer[5*(i-430000)+1045000][6] = data_app_answer[5*(i-430000)+1045000][1] + timedelta(hours=2)"
   ]
  },
  {
   "cell_type": "code",
   "execution_count": 43,
   "id": "0734b578",
   "metadata": {},
   "outputs": [],
   "source": [
    "pd.DataFrame(data_app_answer).to_csv(\"s_application_answer.csv\")"
   ]
  },
  {
   "cell_type": "code",
   "execution_count": 44,
   "id": "1c52a568",
   "metadata": {},
   "outputs": [],
   "source": [
    "data_call_h = np.empty(shape=(1300000), dtype=[('created_dttm', datetime), \n",
    "                                        ('call_id', 'U10'), \n",
    "                                        ('etl_processed_dttm', datetime)])\n",
    "for i in range(1300000):\n",
    "    data_call_h[i][0] = random_date(d1, d2)\n",
    "    data_call_h[i][1] = generate_random_string(10)\n",
    "    data_call_h[i][2] = random_date(d1, d2)"
   ]
  },
  {
   "cell_type": "code",
   "execution_count": 45,
   "id": "6b06e4a5",
   "metadata": {},
   "outputs": [],
   "source": [
    "pd.DataFrame(data_call_h).to_csv(\"h_call.csv\")"
   ]
  },
  {
   "cell_type": "code",
   "execution_count": 48,
   "id": "0d1f0231",
   "metadata": {},
   "outputs": [],
   "source": [
    "data_call_gen = np.empty(shape=(1300000), dtype=[('call_start_dttm', datetime), \n",
    "                                        ('call_end_dttm', datetime),\n",
    "                                        ('stages_num', int),\n",
    "                                        ('recipient_phone_num', 'U20'),\n",
    "                                        ('call_duration', int),\n",
    "                                        ('is_first_attempt', bool),\n",
    "                                        ('wait_time', int),\n",
    "                                        ('hold_time',int),\n",
    "                                        ('auto_answer', bool),\n",
    "                                        ('etl_processed_dttm', datetime)])"
   ]
  },
  {
   "cell_type": "code",
   "execution_count": 52,
   "id": "73d2cdd6",
   "metadata": {},
   "outputs": [],
   "source": [
    "for i in range(1300000):\n",
    "    data_call_gen[i][0] = random_date(d1, d2)\n",
    "    timesum = np.random.randint(30, 500)\n",
    "    data_call_gen[i][1] = data_call_gen[i][0] + timedelta(seconds=timesum)\n",
    "    data_call_gen[i][2] = np.random.randint(1, 3)\n",
    "    data_call_gen[i][3] = generate_mobile_phone()\n",
    "    data_call_gen[i][4] = timesum\n",
    "    data_call_gen[i][5] = np.random.choice([True, False], p=[0.7, 0.3])\n",
    "    data_call_gen[i][6] = np.random.randint(0, 30)\n",
    "    data_call_gen[i][7] = np.random.randint(0, 30)\n",
    "    data_call_gen[i][8] = np.random.choice([True, False], p=[0.2, 0.8])\n",
    "    data_call_gen[i][9] = random_date(d1, d2)"
   ]
  },
  {
   "cell_type": "code",
   "execution_count": 53,
   "id": "4551a1ec",
   "metadata": {},
   "outputs": [],
   "source": [
    "pd.DataFrame(data_call_gen).to_csv(\"s_call_general.csv\")"
   ]
  },
  {
   "cell_type": "code",
   "execution_count": 57,
   "id": "179a5004",
   "metadata": {},
   "outputs": [],
   "source": [
    "data_call_answer = np.empty(shape=(1300000), dtype=[('is_promised_pay', bool), \n",
    "                                        ('date_promised', datetime),\n",
    "                                        ('sum_promised', int),\n",
    "                                        ('is_rejected', bool),\n",
    "                                        ('next_call_dt', datetime),\n",
    "                                        ('is_reseted', bool),\n",
    "                                        ('delay_reason', 'U50'),\n",
    "                                        ('etl_processed_dttm', datetime)])"
   ]
  },
  {
   "cell_type": "code",
   "execution_count": 59,
   "id": "9d233cfe",
   "metadata": {},
   "outputs": [],
   "source": [
    "delay_reasons = ['Задержка зарплаты', 'Больничный', 'Семейные обстоятельства', 'Забыл про долг', \n",
    "                'Понижение ЗП', 'Потеря работы', 'Непредвиденные траты', 'Банкротство']\n",
    "for i in range(1300000):\n",
    "    data_call_answer[i][0] = np.random.choice([True, False], p=[0.45, 0.55])\n",
    "    if data_call_answer[i][0] == True:\n",
    "        data_call_answer[i][2] = np.random.randint(5000, 40000)\n",
    "        data_call_answer[i][1] = random_date(d1, d2)\n",
    "    else:\n",
    "        data_call_answer[i][3] = np.random.choice([True, False], p=[0.35, 0.65])\n",
    "    data_call_answer[i][4] = random_date(d1, d2)\n",
    "    if data_call_answer[i][3] == False:\n",
    "        data_call_answer[i][5] = np.random.choice([True, False], p=[0.35, 0.65])\n",
    "    data_call_answer[i][6] = np.random.choice(delay_reasons, p=[0.3, 0.05, 0.1, 0.05, 0.1, 0.1, 0.27, 0.03])\n",
    "    data_call_answer[i][7] = random_date(d1, d2)"
   ]
  },
  {
   "cell_type": "code",
   "execution_count": 60,
   "id": "0c8168c4",
   "metadata": {},
   "outputs": [],
   "source": [
    "pd.DataFrame(data_call_answer).to_csv(\"s_call_result.csv\")"
   ]
  },
  {
   "cell_type": "code",
   "execution_count": 61,
   "id": "42949e78",
   "metadata": {},
   "outputs": [],
   "source": [
    "data_emp_h = np.empty(shape=(1500), dtype=[('created_dttm', datetime), \n",
    "                                        ('employee_id', 'U10'), \n",
    "                                        ('etl_processed_dttm', datetime)])\n",
    "for i in range(1500):\n",
    "    data_emp_h[i][0] = random_date(d1, d2)\n",
    "    data_emp_h[i][1] = generate_random_string(10)\n",
    "    data_emp_h[i][2] = random_date(d1, d2)"
   ]
  },
  {
   "cell_type": "code",
   "execution_count": 62,
   "id": "fff76580",
   "metadata": {},
   "outputs": [],
   "source": [
    "pd.DataFrame(data_emp_h).to_csv(\"h_employee.csv\")"
   ]
  },
  {
   "cell_type": "code",
   "execution_count": 12,
   "id": "6814841d",
   "metadata": {},
   "outputs": [],
   "source": [
    "data_emp_info = np.empty(shape=(4000), dtype=[('employee_sk', int), \n",
    "                                        ('valid_from_dttm', datetime),\n",
    "                                        ('valid_to_dttm', datetime),\n",
    "                                        ('job_start_dt', datetime),\n",
    "                                        ('position_title', 'U50'), \n",
    "                                        ('salary', int), \n",
    "                                        ('is_certificated', bool),\n",
    "                                        ('job_schedule', 'U50'),\n",
    "                                        ('timezone', 'U20'),\n",
    "                                        ('health_insurance', bool),\n",
    "                                        ('etl_processed_dttm', datetime)])"
   ]
  },
  {
   "cell_type": "code",
   "execution_count": 17,
   "id": "52c7d7eb",
   "metadata": {},
   "outputs": [],
   "source": [
    "positions = ['Оператор колл-центра', 'Оператор отделения банка', 'Руководитель отдела', 'Разработчик', 'Оператор чата',\n",
    "            'Аналитик']\n",
    "schedules = ['5/2', '2/2', 'Плавающий график с 2 выходными', '3/3']\n",
    "timezones = ['GMT + 03:00:00', 'GMT + 02:00:00', 'GMT + 04:00:00', 'GMT + 05:00:00', 'GMT + 06:00:00',\n",
    "           'GMT + 07:00:00', 'GMT + 08:00:00', 'GMT + 09:00:00', 'GMT + 10:00:00', 'GMT + 11:00:00']\n",
    "for i in range(4000):\n",
    "    data_emp_info[i][0] = np.random.randint(1, 1500)\n",
    "    data_emp_info[i][1] = random_date(d1, d2)\n",
    "    data_emp_info[i][3] = random_date(d1, data_emp_info[i][1])\n",
    "    data_emp_info[i][4] = np.random.choice(positions, p=[0.4, 0.2, 0.02, 0.05, 0.3, 0.03])\n",
    "    data_emp_info[i][5] = abs(int(np.random.normal(60000, 20000)))\n",
    "    data_emp_info[i][6] = np.random.choice([True, False], p=[0.8, 0.2])\n",
    "    data_emp_info[i][7] = np.random.choice(schedules, p=[0.3, 0.4, 0.2, 0.1])\n",
    "    data_emp_info[i][8] = np.random.choice(timezones, p=[0.7, 0.06, 0.05, 0.05, 0.03, 0.02, 0.025, 0.025, 0.02, 0.02])\n",
    "    data_emp_info[i][9] = np.random.choice([True, False], p=[0.7, 0.3])\n",
    "    data_emp_info[i][10] = random_date(data_emp_info[i][1], d2)"
   ]
  },
  {
   "cell_type": "code",
   "execution_count": 18,
   "id": "7c1aec9e",
   "metadata": {},
   "outputs": [],
   "source": [
    "pd.DataFrame(data_emp_info).to_csv(\"s_employee_info.csv\")"
   ]
  },
  {
   "cell_type": "code",
   "execution_count": 5,
   "id": "2b269438",
   "metadata": {},
   "outputs": [],
   "source": [
    "import random\n",
    "data_bki_h = np.empty(shape=(700000), dtype=[('created_dttm', datetime), \n",
    "                                        ('record_id', 'U10'), \n",
    "                                        ('etl_processed_dttm', datetime)])\n",
    "for i in range(700000):\n",
    "    data_bki_h[i][0] = random_date(d1, d2)\n",
    "    data_bki_h[i][1] = generate_random_string(10)\n",
    "    data_bki_h[i][2] = random_date(d1, d2)"
   ]
  },
  {
   "cell_type": "code",
   "execution_count": 6,
   "id": "5091e1c3",
   "metadata": {},
   "outputs": [],
   "source": [
    "pd.DataFrame(data_bki_h).to_csv(\"h_bki_record.csv\")"
   ]
  },
  {
   "cell_type": "code",
   "execution_count": 7,
   "id": "c05e6128",
   "metadata": {},
   "outputs": [],
   "source": [
    "data_bki_chng = np.empty(shape=(1500000), dtype=[('record_sk', int), \n",
    "                                        ('valid_from_dttm', datetime),\n",
    "                                        ('valid_to_dttm', datetime),\n",
    "                                        ('bureau_name', 'U30'),\n",
    "                                        ('request_dttm', datetime), \n",
    "                                        ('delay_5_days', int), \n",
    "                                        ('delay_30_days', int), \n",
    "                                        ('delay_60_days', int), \n",
    "                                        ('delay_90_days', int), \n",
    "                                        ('delay_90_plus_days', int),\n",
    "                                        ('max_delay_sum', float),\n",
    "                                        ('debt_left', float),\n",
    "                                        ('last_payment_dt', datetime),\n",
    "                                        ('etl_processed_dttm', datetime)])"
   ]
  },
  {
   "cell_type": "code",
   "execution_count": 9,
   "id": "e4464b11",
   "metadata": {},
   "outputs": [],
   "source": [
    "bureau = ['Эквифакс', 'ОКБ', 'НБКИ', 'Русский стандарт', 'Столичное кредитное бюро']\n",
    "for i in range(1500000):\n",
    "    data_bki_chng[i][0] = np.random.randint(1, 700000)\n",
    "    data_bki_chng[i][1] = random_date(d1, d2)\n",
    "    data_bki_chng[i][3] = np.random.choice(bureau, p=[0.4, 0.3, 0.2, 0.07, 0.03])\n",
    "    h = np.random.randint(10, 200)\n",
    "    data_bki_chng[i][4] = data_bki_chng[i][1] - timedelta(hours=h)\n",
    "    data_bki_chng[i][5] = abs(int(np.random.normal(1.5, 0.5)))\n",
    "    data_bki_chng[i][6] = abs(int(np.random.normal(0.8, 0.25)))\n",
    "    data_bki_chng[i][7] = abs(int(np.random.normal(0.5, 0.2)))\n",
    "    data_bki_chng[i][8] = abs(int(np.random.normal(0.3, 0.15)))\n",
    "    data_bki_chng[i][9] = abs(int(np.random.normal(0.1, 0.1)))\n",
    "    data_bki_chng[i][10] = np.random.randint(0, 1000000)\n",
    "    data_bki_chng[i][11] = np.random.randint(0, 1500000)\n",
    "    b = np.random.randint(10, 1500)\n",
    "    data_bki_chng[i][12] = data_bki_chng[i][1] - timedelta(hours=b)\n",
    "    data_bki_chng[i][13] = random_date(d1, d2)"
   ]
  },
  {
   "cell_type": "code",
   "execution_count": 10,
   "id": "8ba59a17",
   "metadata": {},
   "outputs": [],
   "source": [
    "pd.DataFrame(data_bki_chng).to_csv(\"s_bki_record_chng.csv\")"
   ]
  },
  {
   "cell_type": "code",
   "execution_count": 11,
   "id": "f5e293cc",
   "metadata": {},
   "outputs": [],
   "source": [
    "data_bki_gen = np.empty(shape=(700000), dtype=[\n",
    "                                        ('credit_id', 'U10'),\n",
    "                                        ('credit_sum', int),\n",
    "                                        ('request_dttm', datetime), \n",
    "                                        ('open_dt', datetime), \n",
    "                                        ('close_dt', datetime), \n",
    "                                        ('final_payment_dt', datetime), \n",
    "                                        ('bureau_name', 'U30'), \n",
    "                                        ('credit_type', 'U30'),\n",
    "                                        ('pledge', 'U20'),\n",
    "                                        ('etl_processed_dttm', datetime)])"
   ]
  },
  {
   "cell_type": "code",
   "execution_count": 12,
   "id": "6b9c23dd",
   "metadata": {},
   "outputs": [],
   "source": [
    "loan_types = ['Рефинансирование', 'Автокредит', 'Кредит наличными', 'Кредитная карта']\n",
    "pledge_types = ['Нет данных', 'Автомобиль', 'Ценная бумага', 'Коммерческая недвижимость', 'Акции', 'Залог вещей', \n",
    "               'Антиквариат', 'Производственное оборудование', 'Недвижимость', 'Облигации', 'Ювелирные изделия']\n",
    "for i in range(700000):\n",
    "    data_bki_gen[i][0] = generate_random_string(10)\n",
    "    data_bki_gen[i][1] = abs(int(np.random.normal(500000, 300000)))\n",
    "    data_bki_gen[i][2] = random_date(d1, d2)\n",
    "    data_bki_gen[i][3] = random_date(d1, data_bki_gen[i][2])\n",
    "    is_closed = np.random.choice([True, False])\n",
    "    if is_closed:\n",
    "        data_bki_gen[i][4] = random_date(data_bki_gen[i][3], d2)\n",
    "        data_bki_gen[i][5] = data_bki_gen[i][4]\n",
    "    else:\n",
    "        b = np.random.randint(1000, 30000)\n",
    "        data_bki_gen[i][5] = data_bki_gen[i][3] + timedelta(hours=b)\n",
    "    data_bki_gen[i][6] = np.random.choice(bureau, p=[0.4, 0.3, 0.2, 0.07, 0.03])\n",
    "    data_bki_gen[i][7] = np.random.choice(loan_types, p=[0.05, 0.1, 0.35, 0.5])\n",
    "    data_bki_gen[i][8] = np.random.choice(pledge_types, p=[0.75, 0.05, 0.01, 0.02, 0.03, 0.03, 0.01, 0.01, 0.07, 0.01, 0.01])\n",
    "    data_bki_gen[i][9] = random_date(d1, d2)"
   ]
  },
  {
   "cell_type": "code",
   "execution_count": 13,
   "id": "23bb35c5",
   "metadata": {},
   "outputs": [],
   "source": [
    "pd.DataFrame(data_bki_gen).to_csv(\"s_bki_record_general.csv\")"
   ]
  },
  {
   "cell_type": "code",
   "execution_count": 14,
   "id": "bb18786f",
   "metadata": {},
   "outputs": [],
   "source": [
    "data_paym_h = np.empty(shape=(4000000), dtype=[('created_dttm', datetime), \n",
    "                                        ('payment_id', 'U10'), \n",
    "                                        ('etl_processed_dttm', datetime)])\n",
    "for i in range(4000000):\n",
    "    data_paym_h[i][0] = random_date(d1, d2)\n",
    "    data_paym_h[i][1] = generate_random_string(10)\n",
    "    data_paym_h[i][2] = random_date(d1, d2)"
   ]
  },
  {
   "cell_type": "code",
   "execution_count": 15,
   "id": "65fbcf95",
   "metadata": {},
   "outputs": [],
   "source": [
    "pd.DataFrame(data_paym_h).to_csv(\"h_payment.csv\")"
   ]
  },
  {
   "cell_type": "code",
   "execution_count": 17,
   "id": "293c654f",
   "metadata": {},
   "outputs": [],
   "source": [
    "methods = ['Карта', 'Автомат', 'Наличными в отделении', 'Платежные системы']\n",
    "statuses = ['Успешно', 'В обработке', 'Отклонен']\n",
    "data_paym_d = np.empty(shape=(4000000), dtype=[('created_dttm', datetime), \n",
    "                                        ('payment_method', 'U50'),\n",
    "                                        ('payment_sum', float),\n",
    "                                        ('status', 'U50'),\n",
    "                                        ('etl_processed_dttm', datetime)])\n",
    "for i in range(4000000):\n",
    "    data_paym_d[i][0] = random_date(d1, d2)\n",
    "    data_paym_d[i][1] = np.random.choice(methods, p=[0.8, 0.1, 0.05, 0.05])\n",
    "    data_paym_d[i][2] = abs(np.random.normal(15000, 10000))\n",
    "    data_paym_d[i][3] = np.random.choice(statuses, p=[0.93, 0.01, 0.06])\n",
    "    data_paym_d[i][4] = random_date(d1, d2)"
   ]
  },
  {
   "cell_type": "code",
   "execution_count": 18,
   "id": "b3ca4f95",
   "metadata": {},
   "outputs": [],
   "source": [
    "pd.DataFrame(data_paym_d).to_csv(\"s_payment_details.csv\")"
   ]
  },
  {
   "cell_type": "code",
   "execution_count": 19,
   "id": "39319f08",
   "metadata": {},
   "outputs": [],
   "source": [
    "data_l_bki_client = np.empty(shape=(700000), dtype=[('client_sk', int), \n",
    "                                        ('record_sk', int),\n",
    "                                        ('created_dttm', datetime),\n",
    "                                        ('etl_processed_dttm', datetime)])\n",
    "for i in range(700000):\n",
    "    data_l_bki_client[i][0] = np.random.randint(1, 200000)\n",
    "    data_l_bki_client[i][1] = i + 1\n",
    "    data_l_bki_client[i][2] = random_date(d1, d2)\n",
    "    data_l_bki_client[i][3] = random_date(d1, d2)"
   ]
  },
  {
   "cell_type": "code",
   "execution_count": 20,
   "id": "d9f458c3",
   "metadata": {},
   "outputs": [],
   "source": [
    "pd.DataFrame(data_l_bki_client).to_csv(\"l_bki_record_x_client.csv\")"
   ]
  },
  {
   "cell_type": "code",
   "execution_count": 23,
   "id": "a5a3cc81",
   "metadata": {},
   "outputs": [],
   "source": [
    "data_l_emp_client = np.empty(shape=(1500), dtype=[('client_sk', int), \n",
    "                                        ('employee_sk', int),\n",
    "                                        ('created_dttm', datetime),\n",
    "                                        ('etl_processed_dttm', datetime)])\n",
    "for i in range(1500):\n",
    "    data_l_emp_client[i][0] = np.random.randint(1, int(200000/1500 * (i + 1)))\n",
    "    data_l_emp_client[i][1] = i + 1\n",
    "    data_l_emp_client[i][2] = random_date(d1, d2)\n",
    "    data_l_emp_client[i][3] = random_date(d1, d2)"
   ]
  },
  {
   "cell_type": "code",
   "execution_count": 24,
   "id": "c148a7d6",
   "metadata": {},
   "outputs": [],
   "source": [
    "pd.DataFrame(data_l_emp_client).to_csv(\"l_employee_x_client.csv\")"
   ]
  },
  {
   "cell_type": "code",
   "execution_count": 26,
   "id": "82b688b7",
   "metadata": {},
   "outputs": [],
   "source": [
    "leads_sk = [1, 5, 10, 159, 294, 1045, 1000, 1005, 7, 11, 56, 89, 124, 90, 234, 256, 156, 171, 189, \n",
    "            192, 195, 235, 266, 356, 498, 539, 602, 738, 810, 924, 1083, 1143, 1189, 1204, 1249, \n",
    "            1385, 1396, 1406, 1489, 1456, 1433, 693, 530, 431, 493, 781, 839, 938, 593, 893, 333, 334, \n",
    "            335, 336, 337, 928, 982, 683, 999, 998, 997, 1010, 1011, 345, 356, 378, 390,  \n",
    "            295, 893, 831, 840, 850, 860, 444, 555, 285, 860, 398, 1090, 1456, 1378, 1296, 1101, \n",
    "            1025, 1489, 1386, 1296, 1185]\n",
    "data_l_emp_lead = np.empty(shape=(1500), dtype=[\n",
    "                                        ('lead_sk', int),\n",
    "                                        ('created_dttm', datetime),\n",
    "                                        ('etl_processed_dttm', datetime)])\n",
    "for i in range(1500):\n",
    "    data_l_emp_lead[i][0] = np.random.choice(leads_sk)\n",
    "    data_l_emp_lead[i][1] = random_date(d1, d2)\n",
    "    data_l_emp_lead[i][2] = random_date(d1, d2)"
   ]
  },
  {
   "cell_type": "code",
   "execution_count": 27,
   "id": "65e0a348",
   "metadata": {},
   "outputs": [],
   "source": [
    "pd.DataFrame(data_l_emp_lead).to_csv(\"l_employee_x_lead.csv\")"
   ]
  },
  {
   "cell_type": "code",
   "execution_count": 31,
   "id": "c18f7767",
   "metadata": {},
   "outputs": [],
   "source": [
    "data_l_emp_call = np.empty(shape=(1600000), dtype=[('employee_sk', int),\n",
    "                                        ('call_sk', int),\n",
    "                                        ('created_dttm', datetime),\n",
    "                                        ('etl_processed_dttm', datetime)])\n",
    "for i in range(1600000):\n",
    "    data_l_emp_call[i][0] = np.random.randint(1, 1500)\n",
    "    data_l_emp_call[i][1] = (i + 1) % 1300000\n",
    "    data_l_emp_call[i][2] = random_date(d1, d2)\n",
    "    data_l_emp_call[i][3] = random_date(d1, d2)"
   ]
  },
  {
   "cell_type": "code",
   "execution_count": 32,
   "id": "7f2bf5ca",
   "metadata": {},
   "outputs": [],
   "source": [
    "pd.DataFrame(data_l_emp_call).to_csv(\"l_employee_x_call.csv\")"
   ]
  },
  {
   "cell_type": "code",
   "execution_count": 33,
   "id": "6ecc989a",
   "metadata": {},
   "outputs": [],
   "source": [
    "data_l_loan_call = np.empty(shape=(1600000), dtype=[('loan_sk', int),\n",
    "                                        ('call_sk', int),\n",
    "                                        ('created_dttm', datetime),\n",
    "                                        ('etl_processed_dttm', datetime)])\n",
    "for i in range(1300000):\n",
    "    data_l_loan_call[i][0] = np.random.randint(1, 300000)\n",
    "    data_l_loan_call[i][1] = i + 1\n",
    "    data_l_loan_call[i][2] = random_date(d1, d2)\n",
    "    data_l_loan_call[i][3] = random_date(d1, d2)"
   ]
  },
  {
   "cell_type": "code",
   "execution_count": 34,
   "id": "1bc8a5a7",
   "metadata": {},
   "outputs": [],
   "source": [
    "pd.DataFrame(data_l_loan_call).to_csv(\"l_loan_x_call.csv\")"
   ]
  },
  {
   "cell_type": "code",
   "execution_count": 47,
   "id": "5d8599ae",
   "metadata": {},
   "outputs": [],
   "source": [
    "data_l_loan_pay = np.empty(shape=(4000000), dtype=[('loan_sk', int),\n",
    "                                        ('payment_sk', int),\n",
    "                                        ('created_dttm', datetime),\n",
    "                                        ('etl_processed_dttm', datetime)])\n",
    "for i in range(4000000):\n",
    "    data_l_loan_pay[i][0] = np.random.randint(1, 300000)\n",
    "    data_l_loan_pay[i][1] = i + 1\n",
    "    data_l_loan_pay[i][2] = random_date(d1, d2)\n",
    "    data_l_loan_pay[i][3] = random_date(d1, d2)"
   ]
  },
  {
   "cell_type": "code",
   "execution_count": 48,
   "id": "3740ad4f",
   "metadata": {},
   "outputs": [],
   "source": [
    "pd.DataFrame(data_l_loan_pay).to_csv(\"l_loan_x_payment.csv\")"
   ]
  },
  {
   "cell_type": "code",
   "execution_count": 42,
   "id": "b19f5fb7",
   "metadata": {},
   "outputs": [],
   "source": [
    "data_l_loan_app = np.empty(shape=(300000), dtype=[('application_sk', int),\n",
    "                                        ('created_dttm', datetime),\n",
    "                                        ('etl_processed_dttm', datetime)])\n",
    "nextval = 1\n",
    "for i in range(300000):\n",
    "    data_l_loan_app[i][0] = nextval\n",
    "    plus = np.random.choice ([1, 2, 3, 4], p=[0.75, 0.12, 0.07, 0.06])\n",
    "    nextval += plus\n",
    "    if nextval >= 450000:\n",
    "        print('cringe')\n",
    "    data_l_loan_app[i][1] = random_date(d1, d2)\n",
    "    data_l_loan_app[i][2] = random_date(d1, d2)"
   ]
  },
  {
   "cell_type": "code",
   "execution_count": 44,
   "id": "c75fc5fc",
   "metadata": {},
   "outputs": [],
   "source": [
    "pd.DataFrame(data_l_loan_app).to_csv(\"l_loan_x_application.csv\")"
   ]
  },
  {
   "cell_type": "code",
   "execution_count": 45,
   "id": "dddb3a2e",
   "metadata": {},
   "outputs": [],
   "source": [
    "data_l_app_client = np.empty(shape=(450000), dtype=[('client_sk', int),\n",
    "                                        ('created_dttm', datetime),\n",
    "                                        ('etl_processed_dttm', datetime)])\n",
    "for i in range(450000):\n",
    "    data_l_app_client[i][0] = np.random.randint(1, 200000)\n",
    "    data_l_app_client[i][1] = random_date(d1, d2)\n",
    "    data_l_app_client[i][2] = random_date(d1, d2)"
   ]
  },
  {
   "cell_type": "code",
   "execution_count": 46,
   "id": "e0c470e6",
   "metadata": {},
   "outputs": [],
   "source": [
    "pd.DataFrame(data_l_app_client).to_csv(\"l_application_x_client.csv\")"
   ]
  },
  {
   "cell_type": "code",
   "execution_count": null,
   "id": "43b2aa74",
   "metadata": {},
   "outputs": [],
   "source": [
    "data_all_client = np.empty(shape=(30000), dtype=[('client_id', 'U10'), \n",
    "                                        ('record_created_dttm', datetime), \n",
    "                                        ()\n",
    "                                        ('country', 'U50'), \n",
    "                                        ('region', 'U50')\n",
    "                                        ('settlement', 'U100'), \n",
    "                                        ('street', 'U100'), \n",
    "                                        ('building', int), \n",
    "                                        ('appartment', 'U50'), \n",
    "                                        ('postal_index', 'U6'),\n",
    "                                        ('etl_processed_dttm', datetime)])"
   ]
  }
 ],
 "metadata": {
  "kernelspec": {
   "display_name": "Python 3 (ipykernel)",
   "language": "python",
   "name": "python3"
  },
  "language_info": {
   "codemirror_mode": {
    "name": "ipython",
    "version": 3
   },
   "file_extension": ".py",
   "mimetype": "text/x-python",
   "name": "python",
   "nbconvert_exporter": "python",
   "pygments_lexer": "ipython3",
   "version": "3.9.7"
  }
 },
 "nbformat": 4,
 "nbformat_minor": 5
}
